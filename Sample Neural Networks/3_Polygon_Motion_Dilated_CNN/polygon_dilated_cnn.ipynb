{
 "cells": [
  {
   "cell_type": "code",
   "execution_count": 261,
   "id": "3fcd25df-3e62-466d-ab87-d85a4b081416",
   "metadata": {},
   "outputs": [],
   "source": [
    "import numpy as np\n",
    "import pandas as pd\n",
    "\n",
    "import torch\n",
    "from torch.utils.data import Dataset, DataLoader\n",
    "import torch.nn as nn\n",
    "import torch.optim as optim\n",
    "import torch.nn.functional as F   \n",
    "\n",
    "\n",
    "from matplotlib import pyplot as plt\n",
    "\n",
    "device = 'cuda' if torch.cuda.is_available() else 'cpu'"
   ]
  },
  {
   "cell_type": "markdown",
   "id": "de88b2e4",
   "metadata": {},
   "source": [
    "### import data"
   ]
  },
  {
   "cell_type": "code",
   "execution_count": 262,
   "id": "5ed7ff63-1c95-4c13-996f-0ff3bc07fbf1",
   "metadata": {},
   "outputs": [
    {
     "data": {
      "text/html": [
       "<div>\n",
       "<style scoped>\n",
       "    .dataframe tbody tr th:only-of-type {\n",
       "        vertical-align: middle;\n",
       "    }\n",
       "\n",
       "    .dataframe tbody tr th {\n",
       "        vertical-align: top;\n",
       "    }\n",
       "\n",
       "    .dataframe thead th {\n",
       "        text-align: right;\n",
       "    }\n",
       "</style>\n",
       "<table border=\"1\" class=\"dataframe\">\n",
       "  <thead>\n",
       "    <tr style=\"text-align: right;\">\n",
       "      <th></th>\n",
       "      <th>pid</th>\n",
       "      <th>filename</th>\n",
       "      <th>label</th>\n",
       "    </tr>\n",
       "  </thead>\n",
       "  <tbody>\n",
       "    <tr>\n",
       "      <th>20</th>\n",
       "      <td>21</td>\n",
       "      <td>Pentagon (5).csv</td>\n",
       "      <td>Pentagon</td>\n",
       "    </tr>\n",
       "    <tr>\n",
       "      <th>21</th>\n",
       "      <td>22</td>\n",
       "      <td>Rectangle (4).csv</td>\n",
       "      <td>Rectangle</td>\n",
       "    </tr>\n",
       "    <tr>\n",
       "      <th>22</th>\n",
       "      <td>23</td>\n",
       "      <td>Rectangle (5).csv</td>\n",
       "      <td>Rectangle</td>\n",
       "    </tr>\n",
       "    <tr>\n",
       "      <th>23</th>\n",
       "      <td>24</td>\n",
       "      <td>Triangle (4).csv</td>\n",
       "      <td>Triangle</td>\n",
       "    </tr>\n",
       "    <tr>\n",
       "      <th>24</th>\n",
       "      <td>25</td>\n",
       "      <td>Triangle (5).csv</td>\n",
       "      <td>Triangle</td>\n",
       "    </tr>\n",
       "  </tbody>\n",
       "</table>\n",
       "</div>"
      ],
      "text/plain": [
       "    pid           filename      label\n",
       "20   21   Pentagon (5).csv   Pentagon\n",
       "21   22  Rectangle (4).csv  Rectangle\n",
       "22   23  Rectangle (5).csv  Rectangle\n",
       "23   24   Triangle (4).csv   Triangle\n",
       "24   25   Triangle (5).csv   Triangle"
      ]
     },
     "execution_count": 262,
     "metadata": {},
     "output_type": "execute_result"
    }
   ],
   "source": [
    "default_data_path = 'data'\n",
    "\n",
    "trainingset_df = pd.read_csv(default_data_path + '/training_set.csv')\n",
    "trainingset_df.head()\n",
    "\n",
    "testset_df = pd.read_csv(default_data_path + '/test_set.csv')\n",
    "testset_df.tail()"
   ]
  },
  {
   "cell_type": "code",
   "execution_count": 263,
   "id": "0e91a0ed-d0a1-405c-a766-f0a5cb9bf33f",
   "metadata": {},
   "outputs": [
    {
     "data": {
      "text/html": [
       "<div>\n",
       "<style scoped>\n",
       "    .dataframe tbody tr th:only-of-type {\n",
       "        vertical-align: middle;\n",
       "    }\n",
       "\n",
       "    .dataframe tbody tr th {\n",
       "        vertical-align: top;\n",
       "    }\n",
       "\n",
       "    .dataframe thead th {\n",
       "        text-align: right;\n",
       "    }\n",
       "</style>\n",
       "<table border=\"1\" class=\"dataframe\">\n",
       "  <thead>\n",
       "    <tr style=\"text-align: right;\">\n",
       "      <th></th>\n",
       "      <th>pid</th>\n",
       "      <th>filename</th>\n",
       "      <th>label</th>\n",
       "    </tr>\n",
       "  </thead>\n",
       "  <tbody>\n",
       "    <tr>\n",
       "      <th>360</th>\n",
       "      <td>361</td>\n",
       "      <td>Pentagon (81).csv</td>\n",
       "      <td>2</td>\n",
       "    </tr>\n",
       "    <tr>\n",
       "      <th>361</th>\n",
       "      <td>362</td>\n",
       "      <td>Pentagon (82).csv</td>\n",
       "      <td>2</td>\n",
       "    </tr>\n",
       "    <tr>\n",
       "      <th>362</th>\n",
       "      <td>363</td>\n",
       "      <td>Pentagon (83).csv</td>\n",
       "      <td>2</td>\n",
       "    </tr>\n",
       "    <tr>\n",
       "      <th>363</th>\n",
       "      <td>364</td>\n",
       "      <td>Pentagon (84).csv</td>\n",
       "      <td>2</td>\n",
       "    </tr>\n",
       "    <tr>\n",
       "      <th>364</th>\n",
       "      <td>365</td>\n",
       "      <td>Pentagon (85).csv</td>\n",
       "      <td>2</td>\n",
       "    </tr>\n",
       "  </tbody>\n",
       "</table>\n",
       "</div>"
      ],
      "text/plain": [
       "     pid           filename  label\n",
       "360  361  Pentagon (81).csv      2\n",
       "361  362  Pentagon (82).csv      2\n",
       "362  363  Pentagon (83).csv      2\n",
       "363  364  Pentagon (84).csv      2\n",
       "364  365  Pentagon (85).csv      2"
      ]
     },
     "execution_count": 263,
     "metadata": {},
     "output_type": "execute_result"
    }
   ],
   "source": [
    "# TODO: switch to numerical representation of label\n",
    "from sklearn import preprocessing\n",
    "label = ['Circle',\n",
    "         'Heart',\n",
    "         'Pentagon',\n",
    "         'Rectangle',\n",
    "         'Triangle',\n",
    "         ]\n",
    "label_encoder = preprocessing.LabelEncoder()\n",
    "trainingset_df['label'] = label_encoder.fit_transform(trainingset_df['label'].values.ravel())\n",
    "trainingset_df.tail()\n"
   ]
  },
  {
   "cell_type": "code",
   "execution_count": 264,
   "id": "4e41c529-f1f7-40d2-a87a-8f95e8b2a1a0",
   "metadata": {},
   "outputs": [
    {
     "data": {
      "text/html": [
       "<div>\n",
       "<style scoped>\n",
       "    .dataframe tbody tr th:only-of-type {\n",
       "        vertical-align: middle;\n",
       "    }\n",
       "\n",
       "    .dataframe tbody tr th {\n",
       "        vertical-align: top;\n",
       "    }\n",
       "\n",
       "    .dataframe thead th {\n",
       "        text-align: right;\n",
       "    }\n",
       "</style>\n",
       "<table border=\"1\" class=\"dataframe\">\n",
       "  <thead>\n",
       "    <tr style=\"text-align: right;\">\n",
       "      <th></th>\n",
       "      <th>pid</th>\n",
       "      <th>filename</th>\n",
       "      <th>label</th>\n",
       "    </tr>\n",
       "  </thead>\n",
       "  <tbody>\n",
       "    <tr>\n",
       "      <th>20</th>\n",
       "      <td>21</td>\n",
       "      <td>Pentagon (5).csv</td>\n",
       "      <td>2</td>\n",
       "    </tr>\n",
       "    <tr>\n",
       "      <th>21</th>\n",
       "      <td>22</td>\n",
       "      <td>Rectangle (4).csv</td>\n",
       "      <td>3</td>\n",
       "    </tr>\n",
       "    <tr>\n",
       "      <th>22</th>\n",
       "      <td>23</td>\n",
       "      <td>Rectangle (5).csv</td>\n",
       "      <td>3</td>\n",
       "    </tr>\n",
       "    <tr>\n",
       "      <th>23</th>\n",
       "      <td>24</td>\n",
       "      <td>Triangle (4).csv</td>\n",
       "      <td>4</td>\n",
       "    </tr>\n",
       "    <tr>\n",
       "      <th>24</th>\n",
       "      <td>25</td>\n",
       "      <td>Triangle (5).csv</td>\n",
       "      <td>4</td>\n",
       "    </tr>\n",
       "  </tbody>\n",
       "</table>\n",
       "</div>"
      ],
      "text/plain": [
       "    pid           filename  label\n",
       "20   21   Pentagon (5).csv      2\n",
       "21   22  Rectangle (4).csv      3\n",
       "22   23  Rectangle (5).csv      3\n",
       "23   24   Triangle (4).csv      4\n",
       "24   25   Triangle (5).csv      4"
      ]
     },
     "execution_count": 264,
     "metadata": {},
     "output_type": "execute_result"
    }
   ],
   "source": [
    "testset_df['label'] = label_encoder.fit_transform(testset_df['label'].values.ravel())\n",
    "testset_df.tail()"
   ]
  },
  {
   "cell_type": "code",
   "execution_count": 265,
   "id": "9b92c9d5-bf03-407b-ac60-07eb01462edd",
   "metadata": {},
   "outputs": [
    {
     "name": "stdout",
     "output_type": "stream",
     "text": [
      "data/training_data/Circle (1).csv 0\n",
      "data/training_data/Heart (16).csv 1\n",
      "data/training_data/Rectangle (6).csv 3\n",
      "data/training_data/Triangle (21).csv 4\n",
      "data/training_data/Pentagon (26).csv 2\n",
      "data/training_data/Circle (61).csv 0\n",
      "data/training_data/Heart (66).csv 1\n",
      "data/training_data/Rectangle (36).csv 3\n",
      "data/training_data/Triangle (41).csv 4\n",
      "data/training_data/Pentagon (81).csv 2\n"
     ]
    }
   ],
   "source": [
    "# check training data\n",
    "for row in range(0, len(trainingset_df)):\n",
    "    if(row%40 == 0):\n",
    "        print(default_data_path + '/training_data/' + trainingset_df['filename'].iloc[row], trainingset_df['label']. iloc[row])"
   ]
  },
  {
   "cell_type": "code",
   "execution_count": 266,
   "id": "1e222612-26fc-412d-83e2-c611ff2902c8",
   "metadata": {},
   "outputs": [
    {
     "data": {
      "text/html": [
       "<div>\n",
       "<style scoped>\n",
       "    .dataframe tbody tr th:only-of-type {\n",
       "        vertical-align: middle;\n",
       "    }\n",
       "\n",
       "    .dataframe tbody tr th {\n",
       "        vertical-align: top;\n",
       "    }\n",
       "\n",
       "    .dataframe thead th {\n",
       "        text-align: right;\n",
       "    }\n",
       "</style>\n",
       "<table border=\"1\" class=\"dataframe\">\n",
       "  <thead>\n",
       "    <tr style=\"text-align: right;\">\n",
       "      <th></th>\n",
       "      <th>Time</th>\n",
       "      <th>92W</th>\n",
       "      <th>92X</th>\n",
       "      <th>92Y</th>\n",
       "      <th>92Z</th>\n",
       "    </tr>\n",
       "  </thead>\n",
       "  <tbody>\n",
       "    <tr>\n",
       "      <th>0</th>\n",
       "      <td>0.025</td>\n",
       "      <td>2099</td>\n",
       "      <td>2149</td>\n",
       "      <td>1779</td>\n",
       "      <td>13</td>\n",
       "    </tr>\n",
       "    <tr>\n",
       "      <th>1</th>\n",
       "      <td>0.097</td>\n",
       "      <td>2103</td>\n",
       "      <td>2147</td>\n",
       "      <td>1804</td>\n",
       "      <td>13</td>\n",
       "    </tr>\n",
       "    <tr>\n",
       "      <th>2</th>\n",
       "      <td>0.133</td>\n",
       "      <td>2118</td>\n",
       "      <td>2139</td>\n",
       "      <td>1797</td>\n",
       "      <td>13</td>\n",
       "    </tr>\n",
       "    <tr>\n",
       "      <th>3</th>\n",
       "      <td>0.134</td>\n",
       "      <td>2129</td>\n",
       "      <td>2156</td>\n",
       "      <td>1760</td>\n",
       "      <td>13</td>\n",
       "    </tr>\n",
       "    <tr>\n",
       "      <th>4</th>\n",
       "      <td>0.211</td>\n",
       "      <td>2114</td>\n",
       "      <td>2150</td>\n",
       "      <td>1741</td>\n",
       "      <td>13</td>\n",
       "    </tr>\n",
       "  </tbody>\n",
       "</table>\n",
       "</div>"
      ],
      "text/plain": [
       "    Time   92W   92X   92Y  92Z\n",
       "0  0.025  2099  2149  1779   13\n",
       "1  0.097  2103  2147  1804   13\n",
       "2  0.133  2118  2139  1797   13\n",
       "3  0.134  2129  2156  1760   13\n",
       "4  0.211  2114  2150  1741   13"
      ]
     },
     "execution_count": 266,
     "metadata": {},
     "output_type": "execute_result"
    }
   ],
   "source": [
    "sample_train_data = pd.read_csv(default_data_path + '/training_data/' + trainingset_df['filename'].iloc[1])\n",
    "sample_train_data.head()"
   ]
  },
  {
   "cell_type": "code",
   "execution_count": 267,
   "id": "4fbd1c42-1f87-45d5-8aae-5d98473534a9",
   "metadata": {},
   "outputs": [
    {
     "data": {
      "text/plain": [
       "array([2129, 2127, 2119, 2123, 2105, 2129, 2149, 2159, 2184, 2165, 2147,\n",
       "       2175, 2202, 2205, 2231, 2231, 2216, 2205, 2200, 2188, 2173, 2148,\n",
       "       2085, 2113, 2114, 2063, 2072, 2063, 2038, 2020, 2035, 2056, 2063,\n",
       "       2038, 2056, 2050, 2003, 1991, 2038, 1980, 1933, 2022, 2108, 1961,\n",
       "       1945, 2016, 1980, 1952, 1960, 1984, 1982, 2011, 1903, 1844, 1876,\n",
       "       1918, 1983, 1978, 1920, 1790, 1946, 2074, 2061, 1995, 1966, 1987,\n",
       "       1996, 2123, 2085, 2021, 2000, 2059, 2073, 2057, 2040, 2049, 2136,\n",
       "       2067, 2042, 2106, 2128, 2034, 2053, 1983, 1991, 2058, 2073, 2074,\n",
       "       2009, 2024, 2077, 2076, 2064, 2077, 2111, 2123, 2079, 2122, 2142,\n",
       "       2138, 2152, 2152, 2182, 2168, 2164, 2167, 2181, 2187, 2191, 2176,\n",
       "       2162, 2157, 2099, 2130, 2177, 2176, 2207, 2187, 2151, 2180, 2196,\n",
       "       2203, 2187, 2155, 2138, 2148, 2173, 2190, 2176, 2174, 2146, 2168,\n",
       "       2175, 2164, 2144, 2143, 2147, 2135, 2222, 2128, 2129, 2129, 2127,\n",
       "       2115, 2128, 2112, 2157, 2226, 2138, 2141], dtype=int64)"
      ]
     },
     "execution_count": 267,
     "metadata": {},
     "output_type": "execute_result"
    }
   ],
   "source": [
    "# pandas training X values to numpy\n",
    "pd.read_csv(default_data_path + '/test_data/' + trainingset_df['filename'].iloc[1])['92W'][0:150].to_numpy()"
   ]
  },
  {
   "cell_type": "code",
   "execution_count": 268,
   "id": "39c0164d-63d0-47a2-9e00-b5e1f14fae0f",
   "metadata": {},
   "outputs": [
    {
     "data": {
      "image/png": "[encoded data removed]",
      "text/plain": [
       "<Figure size 640x480 with 1 Axes>"
      ]
     },
     "metadata": {},
     "output_type": "display_data"
    },
    {
     "data": {
      "image/png": "[encoded data removed]",
      "text/plain": [
       "<Figure size 640x480 with 1 Axes>"
      ]
     },
     "metadata": {},
     "output_type": "display_data"
    }
   ],
   "source": [
    "csv = pd.read_csv(\"data/training_data/Circle (1).csv\")\n",
    "PARx = csv.loc[:, '92W']\n",
    "A = list(range(len(PARx)))  # 'W' 열의 데이터 개수에 맞게 범위 설정\n",
    "\n",
    "plt.plot(A, PARx)\n",
    "plt.xlabel(\"Jump\")\n",
    "plt.show()\n",
    "\n",
    "csv = pd.read_csv(\"data/training_data/Circle (5).csv\")\n",
    "PARx = csv.loc[:, '92W']\n",
    "A = list(range(len(PARx)))  # 'W' 열의 데이터 개수에 맞게 범위 설정\n",
    "\n",
    "plt.plot(A, PARx)\n",
    "plt.xlabel(\"Jump\")\n",
    "plt.show()\n"
   ]
  },
  {
   "cell_type": "code",
   "execution_count": 269,
   "id": "2169ae42",
   "metadata": {},
   "outputs": [
    {
     "data": {
      "text/plain": [
       "array([0, 0, 0, 0, 0, 0, 0, 0, 0, 0, 0, 0, 0, 0, 0, 0, 0, 0, 0, 0, 0, 0,\n",
       "       0, 0, 0, 1, 1, 1, 1, 1, 1, 1, 1, 1, 1, 1, 1, 1, 1, 1, 1, 1, 1, 1,\n",
       "       1, 1, 1, 1, 1, 1, 2, 2, 2, 2, 2, 2, 2, 2, 2, 2, 2, 2, 2, 2, 2, 2,\n",
       "       2, 2, 2, 2, 2, 2, 2, 2, 2, 3, 3, 3, 3, 3, 3, 3, 3, 3, 3, 3, 3, 3,\n",
       "       3, 3, 3, 3, 3, 3, 3, 3, 3, 3, 3, 3, 4, 4, 4, 4, 4, 4, 4, 4, 4, 4,\n",
       "       4, 4, 4, 4, 4, 4, 4, 4, 4, 4, 4, 4, 4, 4, 4, 0, 0, 0, 0, 0, 1, 1,\n",
       "       1, 1, 1, 2, 2, 2, 2, 2, 3, 3, 3, 3, 3, 4, 4, 4, 4, 4, 0, 0, 0, 0,\n",
       "       0, 1, 1, 1, 1, 1, 2, 2, 2, 2, 2, 3, 3, 3, 3, 3, 4, 4, 4, 4, 4, 0,\n",
       "       0, 0, 0, 0, 0, 0, 0, 0, 0, 0, 0, 0, 0, 0, 0, 0, 0, 0, 0, 0, 0, 0,\n",
       "       0, 0, 0, 0, 0, 0, 0, 0, 0, 0, 0, 0, 1, 1, 1, 1, 1, 1, 1, 1, 1, 1,\n",
       "       1, 1, 1, 1, 1, 1, 1, 1, 1, 1, 1, 1, 1, 1, 1, 1, 1, 1, 1, 1, 1, 1,\n",
       "       1, 1, 1, 2, 2, 2, 2, 2, 2, 2, 2, 2, 2, 2, 2, 2, 2, 2, 2, 2, 2, 2,\n",
       "       2, 2, 2, 2, 2, 2, 2, 2, 2, 2, 2, 2, 2, 2, 2, 2, 3, 3, 3, 3, 3, 3,\n",
       "       3, 3, 3, 3, 3, 3, 3, 3, 3, 3, 3, 3, 3, 3, 3, 3, 3, 3, 3, 3, 3, 3,\n",
       "       3, 3, 3, 3, 3, 3, 3, 4, 4, 4, 4, 4, 4, 4, 4, 4, 4, 4, 4, 4, 4, 4,\n",
       "       4, 4, 4, 4, 4, 4, 4, 4, 4, 4, 4, 4, 4, 4, 4, 4, 4, 4, 4, 4, 2, 2,\n",
       "       2, 2, 2, 2, 2, 2, 2, 2, 2, 2, 2, 2, 2])"
      ]
     },
     "execution_count": 269,
     "metadata": {},
     "output_type": "execute_result"
    }
   ],
   "source": [
    "y = trainingset_df['label']\n",
    "y.values"
   ]
  },
  {
   "cell_type": "markdown",
   "id": "25459681",
   "metadata": {},
   "source": [
    "### model"
   ]
  },
  {
   "cell_type": "code",
   "execution_count": 270,
   "id": "64b64718",
   "metadata": {},
   "outputs": [
    {
     "name": "stdout",
     "output_type": "stream",
     "text": [
      "Net(\n",
      "  (fc1): Linear(in_features=150, out_features=100, bias=True)\n",
      "  (fc2): Linear(in_features=100, out_features=50, bias=True)\n",
      "  (fc3): Linear(in_features=50, out_features=5, bias=True)\n",
      ")\n"
     ]
    }
   ],
   "source": [
    "class Net(nn.Module):\n",
    "    def __init__(self):\n",
    "        super(Net, self).__init__()\n",
    "        self.fc1 = nn.Linear(150, 100)\n",
    "        self.fc2 = nn.Linear(100, 50)\n",
    "        self.fc3 = nn.Linear(50, 5)\n",
    "\n",
    "    def forward(self, x):\n",
    "        x = x.view(-1, 150)  # 배치 크기를 유지하면서 Flatten\n",
    "        x = F.relu(self.fc1(x))\n",
    "        x = F.relu(self.fc2(x))\n",
    "        x = self.fc3(x)\n",
    "        return x\n",
    "\n",
    "# create model\n",
    "model = Net().to(device)\n",
    "print(model)"
   ]
  },
  {
   "cell_type": "markdown",
   "id": "461c2c90",
   "metadata": {},
   "source": [
    "### hyperparameters"
   ]
  },
  {
   "cell_type": "code",
   "execution_count": 271,
   "id": "a7304e48",
   "metadata": {},
   "outputs": [],
   "source": [
    "learning_rate = 0.001\n",
    "training_epochs = 20\n",
    "batch_size = 1\n",
    "\n",
    "criterion = nn.CrossEntropyLoss()\n",
    "optimizer = optim.Adam(model.parameters())\n",
    "\n",
    "# GPU 사용 가능일 경우 랜덤 시드 고정\n",
    "if device == 'cuda':\n",
    "    torch.cuda.manual_seed_all(777)"
   ]
  },
  {
   "cell_type": "markdown",
   "id": "1cc53cba",
   "metadata": {},
   "source": [
    "### dataset and dataloader"
   ]
  },
  {
   "cell_type": "code",
   "execution_count": 272,
   "id": "9331eef4-f9fd-408c-a25d-ea486c260249",
   "metadata": {},
   "outputs": [],
   "source": [
    "def file_load(option):\n",
    "    data_path_list = []\n",
    "    if option == 'training_data':\n",
    "        for row in range(0, len(trainingset_df)):\n",
    "            data_path_list.append(default_data_path + '/' + option + '/' + \n",
    "                                  trainingset_df['filename'].iloc[row])\n",
    "    if option == 'test_data':\n",
    "        for row in range(0, len(testset_df)):\n",
    "            data_path_list.append(default_data_path + '/' + option + '/' + \n",
    "                                  testset_df['filename'].iloc[row])\n",
    "    return data_path_list\n",
    "\n",
    "class CustomDataset(Dataset):\n",
    "    def __init__(self, option):\n",
    "        super(CustomDataset, self).__init__()\n",
    "        self.file_list = file_load(option)\n",
    "        if option == 'training_data':\n",
    "            y = trainingset_df['label']\n",
    "        if option == 'test_data':\n",
    "            y = testset_df['label']\n",
    "        self.y = y.values\n",
    "\n",
    "    def __getitem__(self, index):\n",
    "        x = pd.read_csv(self.file_list[index])['92W'][:150].to_numpy()\n",
    "        x_data = torch.from_numpy(x).float()\n",
    "        max_val = torch.max(x_data)\n",
    "        min_val = torch.min(x_data)\n",
    "        normalized_x_data = (x_data - min_val) * 2 / (max_val - min_val) - 1\n",
    "\n",
    "        y_data = torch.from_numpy(np.array(self.y[index])).long()\n",
    "        return normalized_x_data, y_data\n",
    "\n",
    "    def __len__(self):\n",
    "        return len(self.y)"
   ]
  },
  {
   "cell_type": "code",
   "execution_count": 273,
   "id": "beaf42fb-e4aa-4789-b5eb-a2584a77c27d",
   "metadata": {},
   "outputs": [],
   "source": [
    "'''\n",
    "Main parameters for Dataloader\n",
    "shuffle:\n",
    "drop_last: if the last batch does not have enough number, throws it away\n",
    "num_workers: how many CPU to use (default is 0)\n",
    "collate_fn: function that creates batch\n",
    "'''\n",
    "train_dataset = CustomDataset(option='training_data')\n",
    "train_dataloader = DataLoader(dataset=train_dataset, batch_size=batch_size, shuffle=True, num_workers=0)\n",
    "\n",
    "test_dataset = CustomDataset(option='test_data')\n",
    "test_dataloader = DataLoader(dataset=test_dataset, batch_size=batch_size, shuffle=True, num_workers=0)\n"
   ]
  },
  {
   "cell_type": "code",
   "execution_count": 274,
   "id": "e736c810-5194-436f-b0bf-3d87e9f6b40a",
   "metadata": {},
   "outputs": [
    {
     "name": "stdout",
     "output_type": "stream",
     "text": [
      "torch.Size([1, 150])\n",
      "torch.Size([1])\n",
      "torch.Size([1, 150])\n",
      "torch.Size([1])\n",
      "\n",
      "Total number of training batches : 365\n",
      "Total number of test batches : 25\n"
     ]
    }
   ],
   "source": [
    "train_input, train_label = next(iter(train_dataloader))\n",
    "print(train_input.size())\n",
    "print(train_label.size())\n",
    "\n",
    "test_input, test_label = next(iter(test_dataloader))\n",
    "print(test_input.size())\n",
    "print(test_label.size())\n",
    "\n",
    "total_batch = len(train_dataloader)\n",
    "print('\\nTotal number of training batches : {}'.format(total_batch))\n",
    "total_batch = len(test_dataloader)\n",
    "print('Total number of test batches : {}'.format(total_batch))"
   ]
  },
  {
   "cell_type": "markdown",
   "id": "5e945fcf",
   "metadata": {},
   "source": [
    "### training and testing"
   ]
  },
  {
   "cell_type": "code",
   "execution_count": null,
   "id": "e4ee0102-f887-4fcb-b0cd-a20b588bfd3c",
   "metadata": {},
   "outputs": [],
   "source": [
    "for epoch in range(training_epochs):\n",
    "    num_correct = 0\n",
    "    num_samples = 0\n",
    "    for batch_idx, (x, y) in enumerate(train_dataloader): \n",
    "        x = x.to(device)\n",
    "        y = y.to(device)\n",
    "        \n",
    "        # forward \n",
    "        prediction = model(x)\n",
    "        loss = criterion(prediction, y)\n",
    "\n",
    "        # backward\n",
    "        optimizer.zero_grad()\n",
    "        loss.backward()\n",
    "\n",
    "        # gradient descent \n",
    "        optimizer.step()   \n",
    "        num_correct += (prediction == y).sum()\n",
    "        num_samples += prediction.size(0)\n",
    "    \n",
    "    print(f'{num_correct}/{num_samples})\n",
    "\n",
    "    "
   ]
  },
  {
   "cell_type": "code",
   "execution_count": null,
   "id": "d605828c",
   "metadata": {},
   "outputs": [],
   "source": [
    "def check_accuracy(loader, is_train, model):\n",
    "    if is_train:\n",
    "        print(\"checking accuracy on training data\")\n",
    "    else:\n",
    "        print(\"checking accuracy on test data\")\n",
    "    num_correct = 0\n",
    "    num_samples = 0\n",
    "    model.eval()\n",
    "\n",
    "    with torch.no_grad():\n",
    "        for x, y in loader:\n",
    "            x = x.to(device)\n",
    "            y = y.to(device)\n",
    "\n",
    "            scores = model(x)\n",
    "            _, predictions = scores.max(1)\n",
    "            num_correct += (predictions == y).sum()\n",
    "            num_samples += predictions.size(0)\n",
    "        \n",
    "        print(f'Got {num_correct} / {num_samples} with accuracy {float(num_correct) / float(num_samples)*100:.2f}')"
   ]
  },
  {
   "cell_type": "code",
   "execution_count": null,
   "id": "fdf9f574-66c5-4cb0-bd47-a47cc430f103",
   "metadata": {},
   "outputs": [],
   "source": [
    "check_accuracy(loader=train_dataloader, is_train=True, model=model)\n",
    "check_accuracy(loader=test_dataloader, is_train=False, model=model)"
   ]
  },
  {
   "cell_type": "code",
   "execution_count": null,
   "id": "45fae21f",
   "metadata": {},
   "outputs": [],
   "source": []
  }
 ],
 "metadata": {
  "kernelspec": {
   "display_name": "ai_env",
   "language": "python",
   "name": "ai_env"
  },
  "language_info": {
   "codemirror_mode": {
    "name": "ipython",
    "version": 3
   },
   "file_extension": ".py",
   "mimetype": "text/x-python",
   "name": "python",
   "nbconvert_exporter": "python",
   "pygments_lexer": "ipython3",
   "version": "3.9.12"
  }
 },
 "nbformat": 4,
 "nbformat_minor": 5
}
