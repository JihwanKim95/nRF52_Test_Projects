{
 "cells": [
  {
   "cell_type": "code",
   "execution_count": 1,
   "id": "3fcd25df-3e62-466d-ab87-d85a4b081416",
   "metadata": {},
   "outputs": [],
   "source": [
    "import torch\n",
    "import torch.utils.data as data\n",
    "import pandas as pd\n",
    "import numpy as np\n",
    "from matplotlib import pyplot as plt"
   ]
  },
  {
   "cell_type": "code",
   "execution_count": 2,
   "id": "5ed7ff63-1c95-4c13-996f-0ff3bc07fbf1",
   "metadata": {},
   "outputs": [
    {
     "data": {
      "text/html": [
       "<div>\n",
       "<style scoped>\n",
       "    .dataframe tbody tr th:only-of-type {\n",
       "        vertical-align: middle;\n",
       "    }\n",
       "\n",
       "    .dataframe tbody tr th {\n",
       "        vertical-align: top;\n",
       "    }\n",
       "\n",
       "    .dataframe thead th {\n",
       "        text-align: right;\n",
       "    }\n",
       "</style>\n",
       "<table border=\"1\" class=\"dataframe\">\n",
       "  <thead>\n",
       "    <tr style=\"text-align: right;\">\n",
       "      <th></th>\n",
       "      <th>pid</th>\n",
       "      <th>filename</th>\n",
       "      <th>label</th>\n",
       "    </tr>\n",
       "  </thead>\n",
       "  <tbody>\n",
       "    <tr>\n",
       "      <th>20</th>\n",
       "      <td>21</td>\n",
       "      <td>Pentagon (5).csv</td>\n",
       "      <td>Pentagon</td>\n",
       "    </tr>\n",
       "    <tr>\n",
       "      <th>21</th>\n",
       "      <td>22</td>\n",
       "      <td>Rectangle (4).csv</td>\n",
       "      <td>Rectangle</td>\n",
       "    </tr>\n",
       "    <tr>\n",
       "      <th>22</th>\n",
       "      <td>23</td>\n",
       "      <td>Rectangle (5).csv</td>\n",
       "      <td>Rectangle</td>\n",
       "    </tr>\n",
       "    <tr>\n",
       "      <th>23</th>\n",
       "      <td>24</td>\n",
       "      <td>Triangle (4).csv</td>\n",
       "      <td>Triangle</td>\n",
       "    </tr>\n",
       "    <tr>\n",
       "      <th>24</th>\n",
       "      <td>25</td>\n",
       "      <td>Triangle (5).csv</td>\n",
       "      <td>Triangle</td>\n",
       "    </tr>\n",
       "  </tbody>\n",
       "</table>\n",
       "</div>"
      ],
      "text/plain": [
       "    pid           filename      label\n",
       "20   21   Pentagon (5).csv   Pentagon\n",
       "21   22  Rectangle (4).csv  Rectangle\n",
       "22   23  Rectangle (5).csv  Rectangle\n",
       "23   24   Triangle (4).csv   Triangle\n",
       "24   25   Triangle (5).csv   Triangle"
      ]
     },
     "execution_count": 2,
     "metadata": {},
     "output_type": "execute_result"
    }
   ],
   "source": [
    "default_data_path = 'data'\n",
    "\n",
    "trainingset_df = pd.read_csv(default_data_path + '/training_set.csv')\n",
    "trainingset_df.head()\n",
    "\n",
    "testset_df = pd.read_csv(default_data_path + '/test_set.csv')\n",
    "testset_df.tail()"
   ]
  },
  {
   "cell_type": "code",
   "execution_count": 3,
   "id": "0e91a0ed-d0a1-405c-a766-f0a5cb9bf33f",
   "metadata": {},
   "outputs": [
    {
     "data": {
      "text/html": [
       "<div>\n",
       "<style scoped>\n",
       "    .dataframe tbody tr th:only-of-type {\n",
       "        vertical-align: middle;\n",
       "    }\n",
       "\n",
       "    .dataframe tbody tr th {\n",
       "        vertical-align: top;\n",
       "    }\n",
       "\n",
       "    .dataframe thead th {\n",
       "        text-align: right;\n",
       "    }\n",
       "</style>\n",
       "<table border=\"1\" class=\"dataframe\">\n",
       "  <thead>\n",
       "    <tr style=\"text-align: right;\">\n",
       "      <th></th>\n",
       "      <th>pid</th>\n",
       "      <th>filename</th>\n",
       "      <th>label</th>\n",
       "    </tr>\n",
       "  </thead>\n",
       "  <tbody>\n",
       "    <tr>\n",
       "      <th>360</th>\n",
       "      <td>361</td>\n",
       "      <td>Pentagon (81).csv</td>\n",
       "      <td>2</td>\n",
       "    </tr>\n",
       "    <tr>\n",
       "      <th>361</th>\n",
       "      <td>362</td>\n",
       "      <td>Pentagon (82).csv</td>\n",
       "      <td>2</td>\n",
       "    </tr>\n",
       "    <tr>\n",
       "      <th>362</th>\n",
       "      <td>363</td>\n",
       "      <td>Pentagon (83).csv</td>\n",
       "      <td>2</td>\n",
       "    </tr>\n",
       "    <tr>\n",
       "      <th>363</th>\n",
       "      <td>364</td>\n",
       "      <td>Pentagon (84).csv</td>\n",
       "      <td>2</td>\n",
       "    </tr>\n",
       "    <tr>\n",
       "      <th>364</th>\n",
       "      <td>365</td>\n",
       "      <td>Pentagon (85).csv</td>\n",
       "      <td>2</td>\n",
       "    </tr>\n",
       "  </tbody>\n",
       "</table>\n",
       "</div>"
      ],
      "text/plain": [
       "     pid           filename  label\n",
       "360  361  Pentagon (81).csv      2\n",
       "361  362  Pentagon (82).csv      2\n",
       "362  363  Pentagon (83).csv      2\n",
       "363  364  Pentagon (84).csv      2\n",
       "364  365  Pentagon (85).csv      2"
      ]
     },
     "execution_count": 3,
     "metadata": {},
     "output_type": "execute_result"
    }
   ],
   "source": [
    "# TODO: switch to numerical representation of label\n",
    "from sklearn import preprocessing\n",
    "label = ['Circle',\n",
    "         'Heart',\n",
    "         'Pentagon',\n",
    "         'Rectangle',\n",
    "         'Triangle',\n",
    "         ]\n",
    "label_encoder = preprocessing.LabelEncoder()\n",
    "trainingset_df['label'] = label_encoder.fit_transform(trainingset_df['label'].values.ravel())\n",
    "trainingset_df.tail()\n"
   ]
  },
  {
   "cell_type": "code",
   "execution_count": 4,
   "id": "4e41c529-f1f7-40d2-a87a-8f95e8b2a1a0",
   "metadata": {},
   "outputs": [
    {
     "data": {
      "text/html": [
       "<div>\n",
       "<style scoped>\n",
       "    .dataframe tbody tr th:only-of-type {\n",
       "        vertical-align: middle;\n",
       "    }\n",
       "\n",
       "    .dataframe tbody tr th {\n",
       "        vertical-align: top;\n",
       "    }\n",
       "\n",
       "    .dataframe thead th {\n",
       "        text-align: right;\n",
       "    }\n",
       "</style>\n",
       "<table border=\"1\" class=\"dataframe\">\n",
       "  <thead>\n",
       "    <tr style=\"text-align: right;\">\n",
       "      <th></th>\n",
       "      <th>pid</th>\n",
       "      <th>filename</th>\n",
       "      <th>label</th>\n",
       "    </tr>\n",
       "  </thead>\n",
       "  <tbody>\n",
       "    <tr>\n",
       "      <th>20</th>\n",
       "      <td>21</td>\n",
       "      <td>Pentagon (5).csv</td>\n",
       "      <td>2</td>\n",
       "    </tr>\n",
       "    <tr>\n",
       "      <th>21</th>\n",
       "      <td>22</td>\n",
       "      <td>Rectangle (4).csv</td>\n",
       "      <td>3</td>\n",
       "    </tr>\n",
       "    <tr>\n",
       "      <th>22</th>\n",
       "      <td>23</td>\n",
       "      <td>Rectangle (5).csv</td>\n",
       "      <td>3</td>\n",
       "    </tr>\n",
       "    <tr>\n",
       "      <th>23</th>\n",
       "      <td>24</td>\n",
       "      <td>Triangle (4).csv</td>\n",
       "      <td>4</td>\n",
       "    </tr>\n",
       "    <tr>\n",
       "      <th>24</th>\n",
       "      <td>25</td>\n",
       "      <td>Triangle (5).csv</td>\n",
       "      <td>4</td>\n",
       "    </tr>\n",
       "  </tbody>\n",
       "</table>\n",
       "</div>"
      ],
      "text/plain": [
       "    pid           filename  label\n",
       "20   21   Pentagon (5).csv      2\n",
       "21   22  Rectangle (4).csv      3\n",
       "22   23  Rectangle (5).csv      3\n",
       "23   24   Triangle (4).csv      4\n",
       "24   25   Triangle (5).csv      4"
      ]
     },
     "execution_count": 4,
     "metadata": {},
     "output_type": "execute_result"
    }
   ],
   "source": [
    "testset_df['label'] = label_encoder.fit_transform(testset_df['label'].values.ravel())\n",
    "testset_df.tail()"
   ]
  },
  {
   "cell_type": "code",
   "execution_count": 5,
   "id": "9b92c9d5-bf03-407b-ac60-07eb01462edd",
   "metadata": {},
   "outputs": [
    {
     "name": "stdout",
     "output_type": "stream",
     "text": [
      "data/training_data/Circle (1).csv 0\n",
      "data/training_data/Heart (16).csv 1\n",
      "data/training_data/Rectangle (6).csv 3\n",
      "data/training_data/Triangle (21).csv 4\n",
      "data/training_data/Pentagon (26).csv 2\n",
      "data/training_data/Circle (61).csv 0\n",
      "data/training_data/Heart (66).csv 1\n",
      "data/training_data/Rectangle (36).csv 3\n",
      "data/training_data/Triangle (41).csv 4\n",
      "data/training_data/Pentagon (81).csv 2\n"
     ]
    }
   ],
   "source": [
    "# check training data\n",
    "for row in range(0, len(trainingset_df)):\n",
    "    if(row%40 == 0):\n",
    "        print(default_data_path + '/training_data/' + trainingset_df['filename'].iloc[row], trainingset_df['label']. iloc[row])"
   ]
  },
  {
   "cell_type": "code",
   "execution_count": 6,
   "id": "1e222612-26fc-412d-83e2-c611ff2902c8",
   "metadata": {},
   "outputs": [
    {
     "data": {
      "text/html": [
       "<div>\n",
       "<style scoped>\n",
       "    .dataframe tbody tr th:only-of-type {\n",
       "        vertical-align: middle;\n",
       "    }\n",
       "\n",
       "    .dataframe tbody tr th {\n",
       "        vertical-align: top;\n",
       "    }\n",
       "\n",
       "    .dataframe thead th {\n",
       "        text-align: right;\n",
       "    }\n",
       "</style>\n",
       "<table border=\"1\" class=\"dataframe\">\n",
       "  <thead>\n",
       "    <tr style=\"text-align: right;\">\n",
       "      <th></th>\n",
       "      <th>Time</th>\n",
       "      <th>92W</th>\n",
       "      <th>92X</th>\n",
       "      <th>92Y</th>\n",
       "      <th>92Z</th>\n",
       "    </tr>\n",
       "  </thead>\n",
       "  <tbody>\n",
       "    <tr>\n",
       "      <th>0</th>\n",
       "      <td>0.025</td>\n",
       "      <td>2099</td>\n",
       "      <td>2149</td>\n",
       "      <td>1779</td>\n",
       "      <td>13</td>\n",
       "    </tr>\n",
       "    <tr>\n",
       "      <th>1</th>\n",
       "      <td>0.097</td>\n",
       "      <td>2103</td>\n",
       "      <td>2147</td>\n",
       "      <td>1804</td>\n",
       "      <td>13</td>\n",
       "    </tr>\n",
       "    <tr>\n",
       "      <th>2</th>\n",
       "      <td>0.133</td>\n",
       "      <td>2118</td>\n",
       "      <td>2139</td>\n",
       "      <td>1797</td>\n",
       "      <td>13</td>\n",
       "    </tr>\n",
       "    <tr>\n",
       "      <th>3</th>\n",
       "      <td>0.134</td>\n",
       "      <td>2129</td>\n",
       "      <td>2156</td>\n",
       "      <td>1760</td>\n",
       "      <td>13</td>\n",
       "    </tr>\n",
       "    <tr>\n",
       "      <th>4</th>\n",
       "      <td>0.211</td>\n",
       "      <td>2114</td>\n",
       "      <td>2150</td>\n",
       "      <td>1741</td>\n",
       "      <td>13</td>\n",
       "    </tr>\n",
       "  </tbody>\n",
       "</table>\n",
       "</div>"
      ],
      "text/plain": [
       "    Time   92W   92X   92Y  92Z\n",
       "0  0.025  2099  2149  1779   13\n",
       "1  0.097  2103  2147  1804   13\n",
       "2  0.133  2118  2139  1797   13\n",
       "3  0.134  2129  2156  1760   13\n",
       "4  0.211  2114  2150  1741   13"
      ]
     },
     "execution_count": 6,
     "metadata": {},
     "output_type": "execute_result"
    }
   ],
   "source": [
    "sample_train_data = pd.read_csv(default_data_path + '/training_data/' + trainingset_df['filename'].iloc[1])\n",
    "sample_train_data.head()"
   ]
  },
  {
   "cell_type": "code",
   "execution_count": 7,
   "id": "5bc40a07-f1d7-43ed-91e2-2e9aee9b6246",
   "metadata": {},
   "outputs": [
    {
     "data": {
      "text/html": [
       "<div>\n",
       "<style scoped>\n",
       "    .dataframe tbody tr th:only-of-type {\n",
       "        vertical-align: middle;\n",
       "    }\n",
       "\n",
       "    .dataframe tbody tr th {\n",
       "        vertical-align: top;\n",
       "    }\n",
       "\n",
       "    .dataframe thead th {\n",
       "        text-align: right;\n",
       "    }\n",
       "</style>\n",
       "<table border=\"1\" class=\"dataframe\">\n",
       "  <thead>\n",
       "    <tr style=\"text-align: right;\">\n",
       "      <th></th>\n",
       "      <th>Time</th>\n",
       "      <th>92W</th>\n",
       "      <th>92X</th>\n",
       "      <th>92Y</th>\n",
       "      <th>92Z</th>\n",
       "    </tr>\n",
       "  </thead>\n",
       "  <tbody>\n",
       "    <tr>\n",
       "      <th>0</th>\n",
       "      <td>0.025</td>\n",
       "      <td>2099</td>\n",
       "      <td>2149</td>\n",
       "      <td>1779</td>\n",
       "      <td>13</td>\n",
       "    </tr>\n",
       "    <tr>\n",
       "      <th>1</th>\n",
       "      <td>0.097</td>\n",
       "      <td>2103</td>\n",
       "      <td>2147</td>\n",
       "      <td>1804</td>\n",
       "      <td>13</td>\n",
       "    </tr>\n",
       "    <tr>\n",
       "      <th>2</th>\n",
       "      <td>0.133</td>\n",
       "      <td>2118</td>\n",
       "      <td>2139</td>\n",
       "      <td>1797</td>\n",
       "      <td>13</td>\n",
       "    </tr>\n",
       "    <tr>\n",
       "      <th>3</th>\n",
       "      <td>0.134</td>\n",
       "      <td>2129</td>\n",
       "      <td>2156</td>\n",
       "      <td>1760</td>\n",
       "      <td>13</td>\n",
       "    </tr>\n",
       "    <tr>\n",
       "      <th>4</th>\n",
       "      <td>0.211</td>\n",
       "      <td>2114</td>\n",
       "      <td>2150</td>\n",
       "      <td>1741</td>\n",
       "      <td>13</td>\n",
       "    </tr>\n",
       "    <tr>\n",
       "      <th>...</th>\n",
       "      <td>...</td>\n",
       "      <td>...</td>\n",
       "      <td>...</td>\n",
       "      <td>...</td>\n",
       "      <td>...</td>\n",
       "    </tr>\n",
       "    <tr>\n",
       "      <th>179</th>\n",
       "      <td>9.108</td>\n",
       "      <td>2097</td>\n",
       "      <td>2105</td>\n",
       "      <td>1834</td>\n",
       "      <td>13</td>\n",
       "    </tr>\n",
       "    <tr>\n",
       "      <th>180</th>\n",
       "      <td>9.176</td>\n",
       "      <td>2087</td>\n",
       "      <td>2111</td>\n",
       "      <td>1725</td>\n",
       "      <td>13</td>\n",
       "    </tr>\n",
       "    <tr>\n",
       "      <th>181</th>\n",
       "      <td>9.225</td>\n",
       "      <td>2051</td>\n",
       "      <td>2121</td>\n",
       "      <td>1725</td>\n",
       "      <td>13</td>\n",
       "    </tr>\n",
       "    <tr>\n",
       "      <th>182</th>\n",
       "      <td>9.229</td>\n",
       "      <td>2048</td>\n",
       "      <td>2123</td>\n",
       "      <td>1817</td>\n",
       "      <td>13</td>\n",
       "    </tr>\n",
       "    <tr>\n",
       "      <th>183</th>\n",
       "      <td>9.282</td>\n",
       "      <td>2064</td>\n",
       "      <td>2110</td>\n",
       "      <td>1784</td>\n",
       "      <td>13</td>\n",
       "    </tr>\n",
       "  </tbody>\n",
       "</table>\n",
       "<p>184 rows × 5 columns</p>\n",
       "</div>"
      ],
      "text/plain": [
       "      Time   92W   92X   92Y  92Z\n",
       "0    0.025  2099  2149  1779   13\n",
       "1    0.097  2103  2147  1804   13\n",
       "2    0.133  2118  2139  1797   13\n",
       "3    0.134  2129  2156  1760   13\n",
       "4    0.211  2114  2150  1741   13\n",
       "..     ...   ...   ...   ...  ...\n",
       "179  9.108  2097  2105  1834   13\n",
       "180  9.176  2087  2111  1725   13\n",
       "181  9.225  2051  2121  1725   13\n",
       "182  9.229  2048  2123  1817   13\n",
       "183  9.282  2064  2110  1784   13\n",
       "\n",
       "[184 rows x 5 columns]"
      ]
     },
     "execution_count": 7,
     "metadata": {},
     "output_type": "execute_result"
    }
   ],
   "source": [
    "sample_train_data"
   ]
  },
  {
   "cell_type": "code",
   "execution_count": 8,
   "id": "61ebdeff-bcb3-4edb-81cc-d7ebc82dd1ee",
   "metadata": {},
   "outputs": [
    {
     "data": {
      "text/plain": [
       "0    2099\n",
       "1    2103\n",
       "2    2118\n",
       "3    2129\n",
       "4    2114\n",
       "Name: 92W, dtype: int64"
      ]
     },
     "execution_count": 8,
     "metadata": {},
     "output_type": "execute_result"
    }
   ],
   "source": [
    "sample_train_data['92W'].head()"
   ]
  },
  {
   "cell_type": "code",
   "execution_count": 9,
   "id": "4fbd1c42-1f87-45d5-8aae-5d98473534a9",
   "metadata": {},
   "outputs": [
    {
     "data": {
      "text/plain": [
       "array([2129, 2127, 2119, 2123, 2105, 2129, 2149, 2159, 2184, 2165, 2147,\n",
       "       2175, 2202, 2205, 2231, 2231, 2216, 2205, 2200, 2188, 2173, 2148,\n",
       "       2085, 2113, 2114, 2063, 2072, 2063, 2038, 2020, 2035, 2056, 2063,\n",
       "       2038, 2056, 2050, 2003, 1991, 2038, 1980, 1933, 2022, 2108, 1961,\n",
       "       1945, 2016, 1980, 1952, 1960, 1984, 1982, 2011, 1903, 1844, 1876,\n",
       "       1918, 1983, 1978, 1920, 1790, 1946, 2074, 2061, 1995, 1966, 1987,\n",
       "       1996, 2123, 2085, 2021, 2000, 2059, 2073, 2057, 2040, 2049, 2136,\n",
       "       2067, 2042, 2106, 2128, 2034, 2053, 1983, 1991, 2058, 2073, 2074,\n",
       "       2009, 2024, 2077, 2076, 2064, 2077, 2111, 2123, 2079, 2122, 2142,\n",
       "       2138, 2152, 2152, 2182, 2168, 2164, 2167, 2181, 2187, 2191, 2176,\n",
       "       2162, 2157, 2099, 2130, 2177, 2176, 2207, 2187, 2151, 2180, 2196,\n",
       "       2203, 2187, 2155, 2138, 2148, 2173, 2190, 2176, 2174, 2146, 2168,\n",
       "       2175, 2164, 2144, 2143, 2147, 2135, 2222, 2128, 2129, 2129, 2127,\n",
       "       2115, 2128, 2112, 2157, 2226, 2138, 2141], dtype=int64)"
      ]
     },
     "execution_count": 9,
     "metadata": {},
     "output_type": "execute_result"
    }
   ],
   "source": [
    "# pandas training X values to numpy\n",
    "pd.read_csv(default_data_path + '/test_data/' + trainingset_df['filename'].iloc[1])['92W'][0:150].to_numpy()"
   ]
  },
  {
   "cell_type": "code",
   "execution_count": 109,
   "id": "39c0164d-63d0-47a2-9e00-b5e1f14fae0f",
   "metadata": {},
   "outputs": [
    {
     "data": {
      "image/png": "[encoded data removed]",
      "text/plain": [
       "<Figure size 640x480 with 1 Axes>"
      ]
     },
     "metadata": {},
     "output_type": "display_data"
    },
    {
     "data": {
      "image/png": "[encoded data removed]",
      "text/plain": [
       "<Figure size 640x480 with 1 Axes>"
      ]
     },
     "metadata": {},
     "output_type": "display_data"
    }
   ],
   "source": [
    "csv = pd.read_csv(\"data/training_data/Circle (1).csv\")\n",
    "PARx = csv.loc[:, '92W']\n",
    "A = list(range(len(PARx)))  # 'W' 열의 데이터 개수에 맞게 범위 설정\n",
    "\n",
    "plt.plot(A, PARx)\n",
    "plt.xlabel(\"Jump\")\n",
    "plt.show()\n",
    "\n",
    "csv = pd.read_csv(\"data/training_data/Circle (5).csv\")\n",
    "PARx = csv.loc[:, '92W']\n",
    "A = list(range(len(PARx)))  # 'W' 열의 데이터 개수에 맞게 범위 설정\n",
    "\n",
    "plt.plot(A, PARx)\n",
    "plt.xlabel(\"Jump\")\n",
    "plt.show()\n"
   ]
  },
  {
   "cell_type": "code",
   "execution_count": 167,
   "id": "035a925d-4836-4366-8f56-8b7d3a82278d",
   "metadata": {},
   "outputs": [],
   "source": [
    "learning_rate = 0.001\n",
    "training_epochs = 200\n",
    "batch_size = 1"
   ]
  },
  {
   "cell_type": "code",
   "execution_count": 133,
   "id": "931e52d4-a03a-4923-ab3c-348e96b1304b",
   "metadata": {},
   "outputs": [
    {
     "data": {
      "text/plain": [
       "array([0, 0, 0, 0, 0, 0, 0, 0, 0, 0, 0, 0, 0, 0, 0, 0, 0, 0, 0, 0, 0, 0,\n",
       "       0, 0, 0, 1, 1, 1, 1, 1, 1, 1, 1, 1, 1, 1, 1, 1, 1, 1, 1, 1, 1, 1,\n",
       "       1, 1, 1, 1, 1, 1, 2, 2, 2, 2, 2, 2, 2, 2, 2, 2, 2, 2, 2, 2, 2, 2,\n",
       "       2, 2, 2, 2, 2, 2, 2, 2, 2, 3, 3, 3, 3, 3, 3, 3, 3, 3, 3, 3, 3, 3,\n",
       "       3, 3, 3, 3, 3, 3, 3, 3, 3, 3, 3, 3, 4, 4, 4, 4, 4, 4, 4, 4, 4, 4,\n",
       "       4, 4, 4, 4, 4, 4, 4, 4, 4, 4, 4, 4, 4, 4, 4, 0, 0, 0, 0, 0, 1, 1,\n",
       "       1, 1, 1, 2, 2, 2, 2, 2, 3, 3, 3, 3, 3, 4, 4, 4, 4, 4, 0, 0, 0, 0,\n",
       "       0, 1, 1, 1, 1, 1, 2, 2, 2, 2, 2, 3, 3, 3, 3, 3, 4, 4, 4, 4, 4, 0,\n",
       "       0, 0, 0, 0, 0, 0, 0, 0, 0, 0, 0, 0, 0, 0, 0, 0, 0, 0, 0, 0, 0, 0,\n",
       "       0, 0, 0, 0, 0, 0, 0, 0, 0, 0, 0, 0, 1, 1, 1, 1, 1, 1, 1, 1, 1, 1,\n",
       "       1, 1, 1, 1, 1, 1, 1, 1, 1, 1, 1, 1, 1, 1, 1, 1, 1, 1, 1, 1, 1, 1,\n",
       "       1, 1, 1, 2, 2, 2, 2, 2, 2, 2, 2, 2, 2, 2, 2, 2, 2, 2, 2, 2, 2, 2,\n",
       "       2, 2, 2, 2, 2, 2, 2, 2, 2, 2, 2, 2, 2, 2, 2, 2, 3, 3, 3, 3, 3, 3,\n",
       "       3, 3, 3, 3, 3, 3, 3, 3, 3, 3, 3, 3, 3, 3, 3, 3, 3, 3, 3, 3, 3, 3,\n",
       "       3, 3, 3, 3, 3, 3, 3, 4, 4, 4, 4, 4, 4, 4, 4, 4, 4, 4, 4, 4, 4, 4,\n",
       "       4, 4, 4, 4, 4, 4, 4, 4, 4, 4, 4, 4, 4, 4, 4, 4, 4, 4, 4, 4, 2, 2,\n",
       "       2, 2, 2, 2, 2, 2, 2, 2, 2, 2, 2, 2, 2])"
      ]
     },
     "execution_count": 133,
     "metadata": {},
     "output_type": "execute_result"
    }
   ],
   "source": [
    "y = trainingset_df['label']\n",
    "y.values"
   ]
  },
  {
   "cell_type": "code",
   "execution_count": 134,
   "id": "d03de2c2-2f7c-4a70-911d-c2cd19dfbf36",
   "metadata": {},
   "outputs": [
    {
     "data": {
      "text/plain": [
       "array([0, 0, 0, 1, 1, 1, 2, 2, 2, 3, 3, 3, 4, 4, 4, 0, 0, 1, 1, 2, 2, 3,\n",
       "       3, 4, 4])"
      ]
     },
     "execution_count": 134,
     "metadata": {},
     "output_type": "execute_result"
    }
   ],
   "source": [
    "y = testset_df['label']\n",
    "y.values"
   ]
  },
  {
   "cell_type": "code",
   "execution_count": 151,
   "id": "f82b737d-5f6a-4b7c-8630-e5667019010e",
   "metadata": {},
   "outputs": [
    {
     "data": {
      "text/plain": [
       "tensor(0)"
      ]
     },
     "execution_count": 151,
     "metadata": {},
     "output_type": "execute_result"
    }
   ],
   "source": [
    "torch.from_numpy(np.array(y[1])).long()"
   ]
  },
  {
   "cell_type": "code",
   "execution_count": 152,
   "id": "9331eef4-f9fd-408c-a25d-ea486c260249",
   "metadata": {},
   "outputs": [],
   "source": [
    "def file_load(option):\n",
    "    data_path_list = []\n",
    "    for row in range(0, len(trainingset_df)):\n",
    "        data_path_list.append(default_data_path + '/' + option + '/' + trainingset_df['filename'].iloc[row])\n",
    "    return data_path_list\n",
    "\n",
    "class CustomDataset(data.Dataset):\n",
    "    def __init__(self, opt_data):\n",
    "        super(CustomDataset, self).__init__()\n",
    "        self.file_list = file_load(opt_data)\n",
    "        y = trainingset_df['label']\n",
    "        self.y = y.values\n",
    "\n",
    "    def __getitem__(self, index):\n",
    "        x = pd.read_csv(self.file_list[index])['92W'][:150].to_numpy()\n",
    "        x_data = torch.from_numpy(x).float()\n",
    "\n",
    "        max_val = torch.max(x_data)\n",
    "        min_val = torch.min(x_data)\n",
    "\n",
    "        normalized_x_data = (x_data - min_val) * 2 / (max_val - min_val) - 1\n",
    "\n",
    "        y_data = torch.from_numpy(np.array(self.y[index])).long()\n",
    "        return normalized_x_data, y_data\n",
    "\n",
    "    def __len__(self):\n",
    "        return len(self.y)\n",
    "\n",
    "if __name__ == \"__main__\":\n",
    "    a = CustomDataset('training_data')"
   ]
  },
  {
   "cell_type": "code",
   "execution_count": 153,
   "id": "beaf42fb-e4aa-4789-b5eb-a2584a77c27d",
   "metadata": {},
   "outputs": [
    {
     "data": {
      "text/plain": [
       "(tensor([ 0.0849, -0.0480, -0.1218,  0.0849, -0.0037, -0.3137, -0.3063, -0.0849,\n",
       "         -0.0037, -0.4170, -0.6827, -0.2915,  0.3579, -0.3432, -0.6531, -0.6605,\n",
       "         -0.4539, -0.4244, -0.6679, -0.5646, -0.5498, -0.7122, -0.6605, -0.3358,\n",
       "         -0.2177, -0.2325, -0.5424, -0.5424, -0.1070,  0.0480, -0.2177, -0.0627,\n",
       "          0.0923, -0.1513, -0.4244, -0.1365,  0.2177,  0.1956, -0.2472, -0.3063,\n",
       "          0.2989,  0.3358,  0.4539,  0.5867,  0.2989, -0.0185,  0.1734,  0.4391,\n",
       "         -0.3875, -0.0627,  1.0000,  0.6753, -0.3579,  0.1882,  0.7269,  0.7048,\n",
       "          0.0849, -0.1734,  0.5424,  0.3801,  0.0332, -0.0111,  0.0923, -0.3432,\n",
       "         -0.1070,  0.3432,  0.3801, -0.2251, -0.1218, -0.0480, -0.1956, -0.3579,\n",
       "         -0.3653, -0.0775,  0.0554, -0.0554,  0.0480,  0.1661,  0.2841,  0.2177,\n",
       "          0.1513, -0.0849, -0.1808, -0.2399, -0.1070,  0.0554,  0.1070, -0.0111,\n",
       "          0.0258, -0.0258, -0.1144, -0.6310, -0.4391, -0.1734, -0.1513, -0.3948,\n",
       "         -0.3579, -0.2472, -0.2325, -0.3210, -0.2177, -0.4096, -0.2030, -0.1956,\n",
       "         -0.2177, -0.2915, -0.4096, -0.4244, -0.1956, -0.3063, -0.3579, -0.2103,\n",
       "         -0.3063, -0.5424, -0.4096, -0.0849, -0.4760, -0.9114, -0.6753, -0.2768,\n",
       "         -0.3948, -0.9852, -1.0000, -0.5424, -0.4760, -0.8524, -0.8303, -0.5572,\n",
       "         -0.5277, -0.6827, -0.5055, -0.5424, -0.6900, -0.5646, -0.4834, -0.2915,\n",
       "         -0.8007, -0.5941, -0.3653, -0.6458, -0.6384, -0.4170, -0.4982, -0.5055,\n",
       "         -0.2841, -0.2546, -0.0775, -0.2768, -0.2768, -0.2841]),\n",
       " tensor(0))"
      ]
     },
     "execution_count": 153,
     "metadata": {},
     "output_type": "execute_result"
    }
   ],
   "source": [
    "'''\n",
    "Main parameters for Dataloader\n",
    "shuffle:\n",
    "drop_last: if the last batch does not have enough number, throws it away\n",
    "num_workers: how many CPU to use (default is 0)\n",
    "collate_fn: function that creates batch\n",
    "'''\n",
    "train_dataset = CustomDataset('training_data')\n",
    "train_dataloader = data.DataLoader(dataset=train_dataset, batch_size=batch_size, shuffle=True)\n",
    "\n",
    "train_dataset[4]\n"
   ]
  },
  {
   "cell_type": "code",
   "execution_count": 154,
   "id": "932b6747-d656-422f-b73d-b7459bfef3ec",
   "metadata": {},
   "outputs": [
    {
     "data": {
      "text/plain": [
       "(tensor([-0.5280, -0.6188, -0.5976, -0.6581, -0.6672, -0.8033, -0.7489, -0.3495,\n",
       "         -0.2012, -0.1467, -0.1286, -0.2436,  0.1044,  0.6520,  1.0000,  0.9546,\n",
       "          0.7337,  0.6520,  0.7337,  0.9637,  0.9092,  0.3797,  0.1528,  0.1225,\n",
       "          0.3101,  0.3343,  0.0499, -0.1256,  0.1044,  0.0136, -0.1165,  0.0681,\n",
       "          0.1346, -0.3858, -0.5703, -0.1104,  0.3041,  0.0469, -0.2405, -0.2557,\n",
       "         -0.0651,  0.1710, -0.1346, -0.4463, -0.2315, -0.0923, -0.2103,  0.1044,\n",
       "          0.3646,  0.3101, -0.0651, -0.0227,  0.2133,  0.3071,  0.1861,  0.1921,\n",
       "          0.1770,  0.4826,  0.4493,  0.2526,  0.1800,  0.1467,  0.2103,  0.3676,\n",
       "          0.3101,  0.2466,  0.3101,  0.4887,  0.4644,  0.6248,  0.5008,  0.3828,\n",
       "          0.3888,  0.3343,  0.4856,  0.4372,  0.1467,  0.0166,  0.1710,  0.0832,\n",
       "         -0.1256, -0.3585, -0.6036, -0.5068, -0.3797, -0.5946, -0.8729, -0.7126,\n",
       "         -0.6097, -0.6127, -0.6732, -0.5129, -0.4463, -0.3162, -0.4130, -0.5129,\n",
       "         -0.3495, -0.3071, -0.2405, -0.2345, -0.2103, -0.1740, -0.2648, -0.0620,\n",
       "         -0.0106, -0.0681,  0.1558,  0.2890,  0.4584,  0.3888,  0.5371,  0.5976,\n",
       "          0.3253, -0.0499, -0.0197,  0.0741, -0.1165, -0.3101, -0.0651, -0.2890,\n",
       "         -0.4372, -0.4644, -0.2678, -0.3525, -0.6369, -0.7700, -0.6006, -0.7519,\n",
       "         -0.6823, -0.7882, -0.9304, -1.0000, -0.6157, -0.4887, -0.5492, -0.6248,\n",
       "         -0.6702, -0.5492, -0.5250, -0.5613, -0.5098, -0.5643, -0.4191, -0.2194,\n",
       "         -0.1589, -0.3011, -0.2648, -0.1165, -0.0136, -0.1619]),\n",
       " tensor(2))"
      ]
     },
     "execution_count": 154,
     "metadata": {},
     "output_type": "execute_result"
    }
   ],
   "source": [
    "train_dataset[360]"
   ]
  },
  {
   "cell_type": "code",
   "execution_count": 156,
   "id": "c46a473b-3086-417c-a50e-c6fb6cfff8ad",
   "metadata": {},
   "outputs": [],
   "source": [
    "\n",
    "# test_dataloader = data.DataLoader(dataset=test_dataset, batch_size=batch_size, shuffle=True)\n",
    "\n",
    "# test_dataset[9]\n",
    "# sample_data = test_dataset[9][0]\n",
    "# print(sample_data.size())"
   ]
  },
  {
   "cell_type": "code",
   "execution_count": null,
   "id": "6766c53b-7689-41ff-9981-83a79f169936",
   "metadata": {},
   "outputs": [],
   "source": []
  },
  {
   "cell_type": "code",
   "execution_count": 157,
   "id": "e736c810-5194-436f-b0bf-3d87e9f6b40a",
   "metadata": {},
   "outputs": [
    {
     "name": "stdout",
     "output_type": "stream",
     "text": [
      "torch.Size([1, 150])\n",
      "torch.Size([1])\n"
     ]
    }
   ],
   "source": [
    "train_input, train_label = next(iter(train_dataloader))\n",
    "print(train_input.size())\n",
    "print(train_label.size())\n",
    "# test_input, test_label = next(iter(test_dataloader))\n",
    "# print(test_input.size())\n",
    "# print(test_label.size())"
   ]
  },
  {
   "cell_type": "code",
   "execution_count": 158,
   "id": "16674f98-7921-4a29-b04e-1178061ef81f",
   "metadata": {},
   "outputs": [],
   "source": [
    "device = 'cuda' if torch.cuda.is_available() else 'cpu'\n",
    "\n",
    "# 랜덤 시드 고정\n",
    "torch.manual_seed(777)\n",
    "\n",
    "# GPU 사용 가능일 경우 랜덤 시드 고정\n",
    "if device == 'cuda':\n",
    "    torch.cuda.manual_seed_all(777)"
   ]
  },
  {
   "cell_type": "code",
   "execution_count": 163,
   "id": "aceae42c-43e0-4201-a349-4331e2be3b7e",
   "metadata": {},
   "outputs": [
    {
     "name": "stdout",
     "output_type": "stream",
     "text": [
      "Net(\n",
      "  (conv1): Conv1d(1, 64, kernel_size=(5,), stride=(3,))\n",
      "  (conv2): Conv1d(64, 100, kernel_size=(5,), stride=(3,))\n",
      "  (fc1): Linear(in_features=1500, out_features=256, bias=True)\n",
      "  (fc2): Linear(in_features=256, out_features=5, bias=True)\n",
      ")\n"
     ]
    }
   ],
   "source": [
    "import torch.nn as nn\n",
    "\n",
    "class Net(nn.Module):\n",
    "    def __init__(self):\n",
    "        super(Net, self).__init__()\n",
    "\n",
    "        # conv1\n",
    "        self.conv1 = nn.Conv1d(in_channels=1, out_channels=64, kernel_size=5,\n",
    "                               stride=3, padding=0, dilation=1,\n",
    "                               groups=1, bias=True, padding_mode='zeros')\n",
    "        \n",
    "        # conv2\n",
    "        self.conv2 = nn.Conv1d(in_channels=64, out_channels=100, kernel_size=5,\n",
    "                               stride=3, padding=0, dilation=1,\n",
    "                               groups=1, bias=True, padding_mode='zeros')\n",
    "        \n",
    "        self.fc1 = nn.Linear(100 * 15, 256)\n",
    "    \n",
    "        self.fc2 = nn.Linear(256, 5)\n",
    "\n",
    "    \n",
    "\n",
    "    def forward(self, x):\n",
    "        #print(\"연산 전\", x.size())\n",
    "        x = self.conv1(x)\n",
    "        #print(\"cnn1 연산 후\", x.size())\n",
    "        x = self.conv2(x)\n",
    "        #print(\"cnn2 연산 후\", x.size())\n",
    "        x = x.view(-1, 100 * 15)  # 배치 크기를 유지하면서 Flatten\n",
    "        x = self.fc1(x)\n",
    "        #print(\"fc1 연산 후\", x.size())\n",
    "        x = self.fc2(x)\n",
    "        #print(\"fc2 연산 후\", x.size())\n",
    "\n",
    "        return x\n",
    "\n",
    "# create model\n",
    "model = Net().to(device)\n",
    "\n",
    "print(model)"
   ]
  },
  {
   "cell_type": "code",
   "execution_count": 164,
   "id": "b570e4b5-af72-47b0-bcf1-6a86419561bf",
   "metadata": {},
   "outputs": [],
   "source": [
    "criterion = torch.nn.CrossEntropyLoss().to(device)\n",
    "optimizer = torch.optim.Adam(model.parameters(), lr=learning_rate)"
   ]
  },
  {
   "cell_type": "code",
   "execution_count": 165,
   "id": "aafe0b9c-e2db-4ee6-abfb-6f6b6a6e0148",
   "metadata": {},
   "outputs": [
    {
     "name": "stdout",
     "output_type": "stream",
     "text": [
      "총 배치의 수 : 365\n"
     ]
    }
   ],
   "source": [
    "total_batch = len(train_dataloader)\n",
    "print('총 배치의 수 : {}'.format(total_batch))"
   ]
  },
  {
   "cell_type": "code",
   "execution_count": 168,
   "id": "e4ee0102-f887-4fcb-b0cd-a20b588bfd3c",
   "metadata": {},
   "outputs": [
    {
     "name": "stdout",
     "output_type": "stream",
     "text": [
      "[Epoch:    1] cost = 1.01758432\n",
      "[Epoch:    2] cost = 0.949663162\n",
      "[Epoch:    3] cost = 0.953956425\n",
      "[Epoch:    4] cost = 0.93674767\n",
      "[Epoch:    5] cost = 0.888226926\n",
      "[Epoch:    6] cost = 0.915013015\n",
      "[Epoch:    7] cost = 0.897301733\n",
      "[Epoch:    8] cost = 0.861549139\n",
      "[Epoch:    9] cost = 0.826961219\n",
      "[Epoch:   10] cost = 0.786767721\n",
      "[Epoch:   11] cost = 0.817219853\n",
      "[Epoch:   12] cost = 0.807296455\n",
      "[Epoch:   13] cost = 0.819029272\n",
      "[Epoch:   14] cost = 0.804930806\n",
      "[Epoch:   15] cost = 0.770513356\n",
      "[Epoch:   16] cost = 0.760655165\n",
      "[Epoch:   17] cost = 0.78455466\n",
      "[Epoch:   18] cost = 0.739043176\n",
      "[Epoch:   19] cost = 0.703103185\n",
      "[Epoch:   20] cost = 0.641719401\n",
      "[Epoch:   21] cost = 0.756274402\n",
      "[Epoch:   22] cost = 0.759838998\n",
      "[Epoch:   23] cost = 0.65428102\n",
      "[Epoch:   24] cost = 0.66536808\n",
      "[Epoch:   25] cost = 0.665847659\n",
      "[Epoch:   26] cost = 0.697999716\n",
      "[Epoch:   27] cost = 0.576833248\n",
      "[Epoch:   28] cost = 0.677384496\n",
      "[Epoch:   29] cost = 0.707460165\n",
      "[Epoch:   30] cost = 0.661108851\n",
      "[Epoch:   31] cost = 0.610624611\n",
      "[Epoch:   32] cost = 0.576462448\n",
      "[Epoch:   33] cost = 0.668061018\n",
      "[Epoch:   34] cost = 0.652768314\n",
      "[Epoch:   35] cost = 0.609440565\n",
      "[Epoch:   36] cost = 0.578197539\n",
      "[Epoch:   37] cost = 0.57911545\n",
      "[Epoch:   38] cost = 0.606361806\n",
      "[Epoch:   39] cost = 0.520203173\n",
      "[Epoch:   40] cost = 0.59199965\n",
      "[Epoch:   41] cost = 0.588901699\n",
      "[Epoch:   42] cost = 0.583587527\n",
      "[Epoch:   43] cost = 0.537348986\n",
      "[Epoch:   44] cost = 0.59547019\n",
      "[Epoch:   45] cost = 0.530022562\n",
      "[Epoch:   46] cost = 0.560621083\n",
      "[Epoch:   47] cost = 0.526715338\n",
      "[Epoch:   48] cost = 0.59177357\n",
      "[Epoch:   49] cost = 0.522874057\n",
      "[Epoch:   50] cost = 0.550486445\n",
      "[Epoch:   51] cost = 0.538991749\n",
      "[Epoch:   52] cost = 0.632839859\n",
      "[Epoch:   53] cost = 0.489616454\n",
      "[Epoch:   54] cost = 0.440215766\n",
      "[Epoch:   55] cost = 0.500745237\n",
      "[Epoch:   56] cost = 0.447075278\n",
      "[Epoch:   57] cost = 0.545595884\n",
      "[Epoch:   58] cost = 0.614158332\n",
      "[Epoch:   59] cost = 0.548363209\n",
      "[Epoch:   60] cost = 0.467568427\n",
      "[Epoch:   61] cost = 0.425470889\n",
      "[Epoch:   62] cost = 0.39800477\n",
      "[Epoch:   63] cost = 0.497650057\n",
      "[Epoch:   64] cost = 0.504853368\n",
      "[Epoch:   65] cost = 0.536695004\n",
      "[Epoch:   66] cost = 0.485981226\n",
      "[Epoch:   67] cost = 0.540419161\n",
      "[Epoch:   68] cost = 0.413436621\n",
      "[Epoch:   69] cost = 0.450992137\n",
      "[Epoch:   70] cost = 0.497651607\n",
      "[Epoch:   71] cost = 0.483074427\n",
      "[Epoch:   72] cost = 0.432757258\n",
      "[Epoch:   73] cost = 0.489215314\n",
      "[Epoch:   74] cost = 0.510554433\n",
      "[Epoch:   75] cost = 0.372136861\n",
      "[Epoch:   76] cost = 0.415844679\n",
      "[Epoch:   77] cost = 0.44655773\n",
      "[Epoch:   78] cost = 0.547202647\n",
      "[Epoch:   79] cost = 0.3963857\n",
      "[Epoch:   80] cost = 0.389427632\n",
      "[Epoch:   81] cost = 0.502215922\n",
      "[Epoch:   82] cost = 0.600825369\n",
      "[Epoch:   83] cost = 0.475206047\n",
      "[Epoch:   84] cost = 0.432001799\n",
      "[Epoch:   85] cost = 0.249665365\n",
      "[Epoch:   86] cost = 0.433881223\n",
      "[Epoch:   87] cost = 0.442162544\n",
      "[Epoch:   88] cost = 0.520185292\n",
      "[Epoch:   89] cost = 0.515087724\n",
      "[Epoch:   90] cost = 0.39620322\n",
      "[Epoch:   91] cost = 0.410134882\n",
      "[Epoch:   92] cost = 0.317355216\n",
      "[Epoch:   93] cost = 0.419638753\n",
      "[Epoch:   94] cost = 0.560865402\n",
      "[Epoch:   95] cost = 0.355563849\n",
      "[Epoch:   96] cost = 0.270727307\n",
      "[Epoch:   97] cost = 0.436007768\n",
      "[Epoch:   98] cost = 0.488072604\n",
      "[Epoch:   99] cost = 0.360740989\n",
      "[Epoch:  100] cost = 0.465993047\n",
      "[Epoch:  101] cost = 0.319951713\n",
      "[Epoch:  102] cost = 0.374157697\n",
      "[Epoch:  103] cost = 0.491278172\n",
      "[Epoch:  104] cost = 0.462260008\n",
      "[Epoch:  105] cost = 0.424345702\n",
      "[Epoch:  106] cost = 0.381897807\n",
      "[Epoch:  107] cost = 0.27865836\n",
      "[Epoch:  108] cost = 0.39345035\n",
      "[Epoch:  109] cost = 0.413342923\n",
      "[Epoch:  110] cost = 0.481117606\n",
      "[Epoch:  111] cost = 0.547471762\n",
      "[Epoch:  112] cost = 0.390209258\n",
      "[Epoch:  113] cost = 0.328943253\n",
      "[Epoch:  114] cost = 0.417002797\n",
      "[Epoch:  115] cost = 0.275592208\n",
      "[Epoch:  116] cost = 0.291908681\n",
      "[Epoch:  117] cost = 0.653598249\n",
      "[Epoch:  118] cost = 0.461298257\n",
      "[Epoch:  119] cost = 0.403897494\n",
      "[Epoch:  120] cost = 0.201071322\n",
      "[Epoch:  121] cost = 0.241529286\n",
      "[Epoch:  122] cost = 0.392845154\n",
      "[Epoch:  123] cost = 0.36186716\n",
      "[Epoch:  124] cost = 0.481972069\n",
      "[Epoch:  125] cost = 0.431232154\n",
      "[Epoch:  126] cost = 0.247033194\n",
      "[Epoch:  127] cost = 0.3579956\n",
      "[Epoch:  128] cost = 0.504754841\n",
      "[Epoch:  129] cost = 0.349861652\n",
      "[Epoch:  130] cost = 0.254939586\n",
      "[Epoch:  131] cost = 0.579568386\n",
      "[Epoch:  132] cost = 0.514300942\n",
      "[Epoch:  133] cost = 0.37348339\n",
      "[Epoch:  134] cost = 0.349525392\n",
      "[Epoch:  135] cost = 0.17029047\n",
      "[Epoch:  136] cost = 0.124627426\n",
      "[Epoch:  137] cost = 0.305624962\n",
      "[Epoch:  138] cost = 0.742448092\n",
      "[Epoch:  139] cost = 0.517163157\n",
      "[Epoch:  140] cost = 0.425237715\n",
      "[Epoch:  141] cost = 0.36136207\n",
      "[Epoch:  142] cost = 0.327329934\n",
      "[Epoch:  143] cost = 0.165492266\n",
      "[Epoch:  144] cost = 0.205586135\n",
      "[Epoch:  145] cost = 0.287920058\n",
      "[Epoch:  146] cost = 0.475060135\n",
      "[Epoch:  147] cost = 0.513141811\n",
      "[Epoch:  148] cost = 0.636922419\n",
      "[Epoch:  149] cost = 0.331083149\n",
      "[Epoch:  150] cost = 0.211777002\n",
      "[Epoch:  151] cost = 0.410875708\n",
      "[Epoch:  152] cost = 0.31427744\n",
      "[Epoch:  153] cost = 0.264083654\n",
      "[Epoch:  154] cost = 0.377419591\n",
      "[Epoch:  155] cost = 0.549115777\n",
      "[Epoch:  156] cost = 0.39473781\n",
      "[Epoch:  157] cost = 0.310723931\n",
      "[Epoch:  158] cost = 0.215416715\n",
      "[Epoch:  159] cost = 0.31003353\n",
      "[Epoch:  160] cost = 0.29104951\n",
      "[Epoch:  161] cost = 0.432827026\n",
      "[Epoch:  162] cost = 0.365855932\n",
      "[Epoch:  163] cost = 0.510832369\n",
      "[Epoch:  164] cost = 0.271056443\n",
      "[Epoch:  165] cost = 0.473858684\n",
      "[Epoch:  166] cost = 0.295353502\n",
      "[Epoch:  167] cost = 0.331789911\n",
      "[Epoch:  168] cost = 0.211066678\n",
      "[Epoch:  169] cost = 0.279427201\n",
      "[Epoch:  170] cost = 0.396956563\n",
      "[Epoch:  171] cost = 0.495736718\n",
      "[Epoch:  172] cost = 0.435799807\n",
      "[Epoch:  173] cost = 0.38115257\n",
      "[Epoch:  174] cost = 0.204950869\n",
      "[Epoch:  175] cost = 0.165541768\n",
      "[Epoch:  176] cost = 0.213935331\n",
      "[Epoch:  177] cost = 0.424072444\n",
      "[Epoch:  178] cost = 0.500012398\n",
      "[Epoch:  179] cost = 0.415094823\n",
      "[Epoch:  180] cost = 0.311750144\n",
      "[Epoch:  181] cost = 0.368095815\n",
      "[Epoch:  182] cost = 0.237716421\n",
      "[Epoch:  183] cost = 0.393388152\n",
      "[Epoch:  184] cost = 0.288650066\n",
      "[Epoch:  185] cost = 0.125123501\n",
      "[Epoch:  186] cost = 0.264327943\n",
      "[Epoch:  187] cost = 0.659225941\n",
      "[Epoch:  188] cost = 0.604937732\n",
      "[Epoch:  189] cost = 0.271328032\n",
      "[Epoch:  190] cost = 0.40956229\n",
      "[Epoch:  191] cost = 0.410284847\n",
      "[Epoch:  192] cost = 0.40553686\n",
      "[Epoch:  193] cost = 0.229888812\n",
      "[Epoch:  194] cost = 0.328902364\n",
      "[Epoch:  195] cost = 0.377510786\n",
      "[Epoch:  196] cost = 0.263258219\n",
      "[Epoch:  197] cost = 0.179734051\n",
      "[Epoch:  198] cost = 0.424015641\n",
      "[Epoch:  199] cost = 0.389730096\n",
      "[Epoch:  200] cost = 0.3442882\n"
     ]
    }
   ],
   "source": [
    "for epoch in range(training_epochs):\n",
    "    avg_cost = 0\n",
    "\n",
    "    for X, Y in train_dataloader: \n",
    "        X = X.to(device)\n",
    "        Y = Y.to(device)\n",
    "\n",
    "        optimizer.zero_grad()\n",
    "        hypothesis = model(X)\n",
    "        cost = criterion(hypothesis, Y)\n",
    "        cost.backward()\n",
    "        optimizer.step()\n",
    "\n",
    "        avg_cost += cost / total_batch\n",
    "\n",
    "    print('[Epoch: {:>4}] cost = {:>.9}'.format(epoch + 1, avg_cost))"
   ]
  },
  {
   "cell_type": "code",
   "execution_count": 169,
   "id": "f8ae54a2-9932-4043-b722-9132c97fe626",
   "metadata": {},
   "outputs": [],
   "source": [
    "def file_load(option):\n",
    "    data_path_list = []\n",
    "    for row in range(0, len(testset_df)):\n",
    "        data_path_list.append(default_data_path + '/' + option + '/' + testset_df['filename'].iloc[row])\n",
    "    return data_path_list\n",
    "\n",
    "class CustomDataset(data.Dataset):\n",
    "    def __init__(self, opt_data):\n",
    "        super(CustomDataset, self).__init__()\n",
    "        self.file_list = file_load(opt_data)\n",
    "        y = testset_df['label']\n",
    "        self.y = y.values\n",
    "\n",
    "    def __getitem__(self, index):\n",
    "        x = pd.read_csv(self.file_list[index])['92W'][:150].to_numpy()\n",
    "        x_data = torch.from_numpy(x).float()\n",
    "\n",
    "        max_val = torch.max(x_data)\n",
    "        min_val = torch.min(x_data)\n",
    "\n",
    "        normalized_x_data = (x_data - min_val) * 2 / (max_val - min_val) - 1\n",
    "\n",
    "        y_data = torch.from_numpy(np.array(self.y[index])).long()\n",
    "        return normalized_x_data, y_data\n",
    "\n",
    "    def __len__(self):\n",
    "        return len(self.y)\n",
    "\n",
    "if __name__ == \"__main__\":\n",
    "    a = CustomDataset('training_data')\n",
    "\n",
    "\n",
    "test_dataset = CustomDataset('test_data')"
   ]
  },
  {
   "cell_type": "code",
   "execution_count": 172,
   "id": "0d35ba57-0f05-413e-ad20-78b189c074c5",
   "metadata": {},
   "outputs": [
    {
     "data": {
      "text/plain": [
       "(tensor([ 0.4204,  0.4469,  0.5000,  0.6814,  0.6637,  0.4867,  0.5442,  0.6239,\n",
       "          0.6549,  0.3053,  0.1106,  0.4159,  0.4823,  0.2876,  0.2257,  0.4867,\n",
       "          0.0929, -0.2566, -0.0575,  0.2212,  0.0177, -0.3142, -0.1903, -0.0796,\n",
       "         -0.4204, -0.2035, -0.4027, -0.3850, -0.2522, -0.0221, -0.1327, -0.4956,\n",
       "         -0.3363, -0.2522, -0.0973, -0.1018, -0.1150, -0.0973,  0.0133,  0.0531,\n",
       "         -0.0487, -0.2212, -0.1504, -0.0133, -0.0885, -0.0575,  0.0044,  0.1681,\n",
       "          0.0796,  0.0973,  0.0619,  0.0265, -0.0973,  0.0487,  0.0398,  0.0575,\n",
       "         -0.0088, -0.0885, -0.0708,  0.0354, -0.0133, -0.3628, -0.0531, -0.1549,\n",
       "          0.0531,  0.1150,  0.0000, -0.1195,  0.0133,  0.0575,  0.0088,  0.2743,\n",
       "          0.2699,  0.2168,  0.1062,  0.0000,  0.0487,  0.1327,  0.1814,  0.1283,\n",
       "          0.1858,  0.1018,  0.2035,  0.1991,  0.3097,  0.4469,  0.4336,  0.0531,\n",
       "          0.0088,  0.5708,  0.7788,  0.3805,  0.1062,  0.3097,  0.6947,  0.7345,\n",
       "          0.4779,  0.2035,  0.3097,  0.4823,  0.3805,  0.4867,  0.8274,  1.0000,\n",
       "          0.5973,  0.3850,  0.5177,  0.8230,  0.7035,  0.4558,  0.5000,  0.8407,\n",
       "          0.8009,  0.5221,  0.5000,  0.5841,  0.4292,  0.4690,  0.6549,  0.3496,\n",
       "          0.3142,  0.4159,  0.4292,  0.4735,  0.3097,  0.4292,  0.5442,  0.4115,\n",
       "          0.3186,  0.1637,  0.3097,  0.1504,  0.0310, -0.1903,  0.1018, -0.5796,\n",
       "          0.0000,  0.0752,  0.1637,  0.1681, -0.1549, -0.0265, -0.4690, -1.0000,\n",
       "         -0.6947, -0.3717, -0.2876, -0.3009, -0.4336, -0.6150]),\n",
       " tensor(4))"
      ]
     },
     "execution_count": 172,
     "metadata": {},
     "output_type": "execute_result"
    }
   ],
   "source": [
    "test_dataset[24]"
   ]
  },
  {
   "cell_type": "code",
   "execution_count": 177,
   "id": "ddccc02b-68d0-48c4-a4ea-8c2fd17e487b",
   "metadata": {},
   "outputs": [
    {
     "name": "stdout",
     "output_type": "stream",
     "text": [
      "Epoch: 199 - valid Loss: 39.535751 - valid_acc : 0.120000\n"
     ]
    }
   ],
   "source": [
    "test_loader = data.DataLoader(test_dataset, batch_size=batch_size, shuffle=False, num_workers=0)\n",
    "\n",
    "\n",
    "val_loss = []\n",
    "val_acc = []\n",
    "\n",
    "for i, (images, targets) in enumerate(test_loader):\n",
    "    model.eval()\n",
    "    with torch.no_grad():\n",
    "        outputs = model(images)\n",
    "        valid_loss = criterion(outputs,targets).cpu().detach().numpy()\n",
    "\n",
    "        preds = torch.argmax(outputs,axis = 1)\n",
    "        preds = preds.cpu().detach().numpy()\n",
    "\n",
    "        targets = targets.cpu().detach().numpy()\n",
    "        batch_acc = (preds==targets).mean()\n",
    "\n",
    "\n",
    "\n",
    "        val_loss.append(valid_loss)\n",
    "        val_acc.append(batch_acc)\n",
    "\n",
    "val_loss = np.mean(val_loss)\n",
    "val_acc = np.mean(val_acc)\n",
    "\n",
    "print(f'Epoch: {epoch} - valid Loss: {val_loss:.6f} - valid_acc : {val_acc:.6f}')"
   ]
  },
  {
   "cell_type": "code",
   "execution_count": null,
   "id": "fdf9f574-66c5-4cb0-bd47-a47cc430f103",
   "metadata": {},
   "outputs": [],
   "source": [
    "with torch.no_grad():\n",
    "    X_test = test_dataset.test_data.view(len(testset_df), 1, 150).float().to(device)\n",
    "    Y_test = mnist_test.test_labels.to(device)\n",
    "\n",
    "    prediction = model(X_test)\n",
    "    correct_prediction = torch.argmax(prediction, 1) == Y_test\n",
    "    accuracy = correct_prediction.float().mean()\n",
    "    print('Accuracy:', accuracy.item())"
   ]
  }
 ],
 "metadata": {
  "kernelspec": {
   "display_name": "Python 3 (ipykernel)",
   "language": "python",
   "name": "python3"
  },
  "language_info": {
   "codemirror_mode": {
    "name": "ipython",
    "version": 3
   },
   "file_extension": ".py",
   "mimetype": "text/x-python",
   "name": "python",
   "nbconvert_exporter": "python",
   "pygments_lexer": "ipython3",
   "version": "3.9.18"
  }
 },
 "nbformat": 4,
 "nbformat_minor": 5
}
